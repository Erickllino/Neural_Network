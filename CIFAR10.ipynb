{
 "cells": [
  {
   "cell_type": "code",
   "execution_count": 120,
   "metadata": {},
   "outputs": [],
   "source": [
    "\n",
    "import pandas as pd\n",
    "import numpy as np\n",
    "import torch\n",
    "import torch.nn as nn\n",
    "import matplotlib.pyplot as plt\n",
    "from tqdm import tqdm\n",
    "from torch.utils.data import Dataset, DataLoader\n",
    "from torchvision import transforms\n",
    "\n",
    "\n",
    "from datasets import load_dataset\n",
    "\n",
    "dataset = load_dataset(\"cifar10\")"
   ]
  },
  {
   "cell_type": "markdown",
   "metadata": {},
   "source": [
    "# Organizando os Dadoas"
   ]
  },
  {
   "cell_type": "code",
   "execution_count": 121,
   "metadata": {},
   "outputs": [],
   "source": [
    "X_train_png  = dataset['train']['img']\n",
    "y_train      = dataset['train']['label']\n",
    "\n",
    "X_test_png  = dataset['test']['img']\n",
    "y_test      = dataset['test']['label']\n",
    "\n"
   ]
  },
  {
   "cell_type": "code",
   "execution_count": null,
   "metadata": {},
   "outputs": [],
   "source": [
    "\"\"\" X_train = []\n",
    "X_test  = []\n",
    "transf = transforms.ToTensor()\n",
    "\n",
    "\n",
    "for x in X_train_png:\n",
    "    prov = transf(x)\n",
    "    X_train.append(prov)\n",
    "    \n",
    "\n",
    "\n",
    "    \n",
    "for x in X_test_png:\n",
    "    prov = transf(x)\n",
    "    X_test.append(prov) \"\"\"\n",
    "\n",
    "\n"
   ]
  },
  {
   "cell_type": "code",
   "execution_count": null,
   "metadata": {},
   "outputs": [],
   "source": []
  },
  {
   "cell_type": "code",
   "execution_count": null,
   "metadata": {},
   "outputs": [],
   "source": []
  },
  {
   "cell_type": "markdown",
   "metadata": {},
   "source": [
    "# Dataset, DataLoader"
   ]
  },
  {
   "cell_type": "code",
   "execution_count": 133,
   "metadata": {},
   "outputs": [],
   "source": [
    "\n",
    "class CIFAR10(Dataset):\n",
    "    \n",
    "    def __init__(self,X,y, transform=transforms.ToTensor()):\n",
    "        \n",
    "        self.transform = transform\n",
    "        self.X = X\n",
    "        self.y = y\n",
    "          \n",
    "    def __getitem__(self,idx):\n",
    "        \n",
    "        img_tensor = self.transform(self.X[idx])\n",
    "        return img_tensor,self.y[idx]\n",
    "    \n",
    "    def __len__(self):\n",
    "        return len(self.y)\n",
    "    \n",
    "    \n",
    "    \n",
    "# "
   ]
  },
  {
   "cell_type": "code",
   "execution_count": 144,
   "metadata": {},
   "outputs": [],
   "source": [
    "train_dl = DataLoader(CIFAR10(X_train_png,y_train),  batch_size = len(X_train_png) )\n",
    "test_dl  = DataLoader(CIFAR10(X_test_png, y_test),  batch_size = len(X_test_png) )\n",
    "                          "
   ]
  },
  {
   "cell_type": "code",
   "execution_count": null,
   "metadata": {},
   "outputs": [],
   "source": []
  },
  {
   "cell_type": "markdown",
   "metadata": {},
   "source": [
    "# Criando o Modelo"
   ]
  },
  {
   "cell_type": "code",
   "execution_count": 140,
   "metadata": {},
   "outputs": [],
   "source": [
    "class MLP_Model(nn.Module):\n",
    "    def __init__(self):\n",
    "        super().__init__()\n",
    "        \n",
    "        \n",
    "        self.F1 = nn.Flatten()\n",
    "        self.L1  = nn.Linear(3*32*32,64)\n",
    "        self.L2  = nn.Linear(64, 32)\n",
    "        self.L3  = nn.Linear(32,10)\n",
    "        self.A   = nn.ReLU()\n",
    "        \n",
    "        \n",
    "    def forward(self,x):\n",
    "        \n",
    "        x = self.F1(x)\n",
    "        x = self.L1(x) \n",
    "        x = self.A(x)\n",
    "        x = self.L2(x) \n",
    "        x = self.A(x)\n",
    "        x = self.L3(x)\n",
    "        x = self.A(x)\n",
    "        \n",
    "        return x\n",
    "        "
   ]
  },
  {
   "cell_type": "code",
   "execution_count": null,
   "metadata": {},
   "outputs": [],
   "source": [
    "\n"
   ]
  },
  {
   "cell_type": "markdown",
   "metadata": {},
   "source": [
    "# Training"
   ]
  },
  {
   "cell_type": "code",
   "execution_count": 136,
   "metadata": {},
   "outputs": [],
   "source": [
    "\n",
    "def training( N_Epochs, model, loss_fn, opt  ):\n",
    "    \n",
    "    loss_list = []\n",
    "    \n",
    "    for epoch in tqdm(range(N_Epochs+1)):\n",
    "        for xb, yb in train_dl:\n",
    "            \n",
    "            \n",
    "            \n",
    "            y_pred = model(xb.float())\n",
    "            loss   = loss_fn(y_pred, yb.long())\n",
    "        \n",
    "            \n",
    "            opt.zero_grad()\n",
    "            loss.backward()\n",
    "            opt.step()\n",
    "        \n",
    "            loss_list.append(loss.item())\n",
    "    \n",
    "    L1_weights = MLP_Model().L1.weight.detach()\n",
    "    L2_weights = MLP_Model().L2.weight.detach()\n",
    "    L3_weights = MLP_Model().L3.weight.detach()\n",
    "    \n",
    "    \n",
    "       \n",
    "    \n",
    "    plt.figure(figsize = (14,6))\n",
    "    plt.title(\"cost decay\")\n",
    "    plt.plot(loss_list)\n",
    "    plt.xlabel(\"epoch\")\n",
    "    plt.ylabel(\"cost\")\n",
    "    \n",
    "    return L1_weights, L2_weights, L3_weights"
   ]
  },
  {
   "cell_type": "code",
   "execution_count": 146,
   "metadata": {},
   "outputs": [
    {
     "name": "stderr",
     "output_type": "stream",
     "text": [
      "  0%|          | 0/1501 [00:00<?, ?it/s]"
     ]
    },
    {
     "name": "stderr",
     "output_type": "stream",
     "text": [
      " 87%|████████▋ | 1307/1501 [1:48:57<16:26,  5.09s/it] "
     ]
    }
   ],
   "source": [
    "model = MLP_Model()\n",
    "\n",
    "epochs = 1500\n",
    "\n",
    "opt        = torch.optim.Adam( model.parameters(), lr=0.003 )\n",
    "\n",
    "loss_fn    = nn.CrossEntropyLoss( )   \n",
    "\n",
    "x1,x2,x3 = training( epochs, model , loss_fn, opt )"
   ]
  },
  {
   "cell_type": "code",
   "execution_count": null,
   "metadata": {},
   "outputs": [],
   "source": []
  },
  {
   "cell_type": "markdown",
   "metadata": {},
   "source": [
    "# Evaluation"
   ]
  },
  {
   "cell_type": "code",
   "execution_count": 145,
   "metadata": {},
   "outputs": [
    {
     "name": "stdout",
     "output_type": "stream",
     "text": [
      "              precision    recall  f1-score   support\n",
      "\n",
      "           0       0.44      0.44      0.44      1000\n",
      "           1       0.53      0.41      0.46      1000\n",
      "           2       0.27      0.25      0.26      1000\n",
      "           3       0.30      0.12      0.17      1000\n",
      "           4       0.36      0.29      0.32      1000\n",
      "           5       0.33      0.41      0.36      1000\n",
      "           6       0.38      0.52      0.44      1000\n",
      "           7       0.36      0.47      0.41      1000\n",
      "           8       0.47      0.48      0.48      1000\n",
      "           9       0.43      0.49      0.46      1000\n",
      "\n",
      "    accuracy                           0.39     10000\n",
      "   macro avg       0.39      0.39      0.38     10000\n",
      "weighted avg       0.39      0.39      0.38     10000\n",
      "\n"
     ]
    }
   ],
   "source": [
    "from sklearn.metrics import classification_report\n",
    "with torch.no_grad():\n",
    "    \n",
    "    model.eval()\n",
    "    \n",
    "    y_pred = []\n",
    "    y_true = []\n",
    "\n",
    "    for xb, yb in test_dl:\n",
    "        y_predb = model(xb.float())\n",
    "        y_pred.append(y_predb)\n",
    "        y_true.append(yb)\n",
    "        \n",
    "    y_pred = torch.cat(y_pred)\n",
    "    y_true = torch.cat(y_true)\n",
    "  \n",
    "    yf     = torch.argmax(y_pred, dim=1)\n",
    "\n",
    "    print(classification_report(y_true, yf))        \n",
    "    "
   ]
  }
 ],
 "metadata": {
  "kernelspec": {
   "display_name": "Python 3",
   "language": "python",
   "name": "python3"
  },
  "language_info": {
   "codemirror_mode": {
    "name": "ipython",
    "version": 3
   },
   "file_extension": ".py",
   "mimetype": "text/x-python",
   "name": "python",
   "nbconvert_exporter": "python",
   "pygments_lexer": "ipython3",
   "version": "3.12.3"
  }
 },
 "nbformat": 4,
 "nbformat_minor": 2
}
