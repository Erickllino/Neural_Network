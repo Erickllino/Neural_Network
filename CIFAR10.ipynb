{
 "cells": [
  {
   "cell_type": "code",
   "execution_count": 4,
   "metadata": {},
   "outputs": [
    {
     "name": "stderr",
     "output_type": "stream",
     "text": [
      "c:\\Users\\Erick\\anaconda3\\envs\\Study\\Lib\\site-packages\\tqdm\\auto.py:21: TqdmWarning: IProgress not found. Please update jupyter and ipywidgets. See https://ipywidgets.readthedocs.io/en/stable/user_install.html\n",
      "  from .autonotebook import tqdm as notebook_tqdm\n",
      "Downloading readme: 100%|██████████| 5.16k/5.16k [00:00<?, ?B/s]\n",
      "Downloading data: 100%|██████████| 120M/120M [00:04<00:00, 25.2MB/s] \n",
      "Downloading data: 100%|██████████| 23.9M/23.9M [00:01<00:00, 17.5MB/s]\n",
      "Generating train split: 100%|██████████| 50000/50000 [00:00<00:00, 145314.95 examples/s]\n",
      "Generating test split: 100%|██████████| 10000/10000 [00:00<00:00, 131930.79 examples/s]\n"
     ]
    }
   ],
   "source": [
    "\n",
    "import pandas as pd\n",
    "import numpy as np\n",
    "import torch\n",
    "import torch.nn as nn\n",
    "import matplotlib.pyplot as plt\n",
    "from tqdm import tqdm\n",
    "from torch.utils.data import Dataset, DataLoader\n",
    "from torchvision import transforms\n",
    "\n",
    "\n",
    "from datasets import load_dataset\n",
    "\n",
    "dataset = load_dataset(\"cifar10\")"
   ]
  },
  {
   "cell_type": "markdown",
   "metadata": {},
   "source": [
    "# Organizando os Dadoas"
   ]
  },
  {
   "cell_type": "code",
   "execution_count": 5,
   "metadata": {},
   "outputs": [],
   "source": [
    "X_train_png  = dataset['train']['img']\n",
    "y_train      = dataset['train']['label']\n",
    "\n",
    "X_test_png  = dataset['test']['img']\n",
    "y_test      = dataset['test']['label']\n",
    "\n"
   ]
  },
  {
   "cell_type": "code",
   "execution_count": 6,
   "metadata": {},
   "outputs": [
    {
     "data": {
      "text/plain": [
       "' X_train = []\\nX_test  = []\\ntransf = transforms.ToTensor()\\n\\n\\nfor x in X_train_png:\\n    prov = transf(x)\\n    X_train.append(prov)\\n    \\n\\n\\n    \\nfor x in X_test_png:\\n    prov = transf(x)\\n    X_test.append(prov) '"
      ]
     },
     "execution_count": 6,
     "metadata": {},
     "output_type": "execute_result"
    }
   ],
   "source": [
    "\"\"\" X_train = []\n",
    "X_test  = []\n",
    "transf = transforms.ToTensor()\n",
    "\n",
    "\n",
    "for x in X_train_png:\n",
    "    prov = transf(x)\n",
    "    X_train.append(prov)\n",
    "    \n",
    "\n",
    "\n",
    "    \n",
    "for x in X_test_png:\n",
    "    prov = transf(x)\n",
    "    X_test.append(prov) \"\"\"\n",
    "\n",
    "\n"
   ]
  },
  {
   "cell_type": "code",
   "execution_count": null,
   "metadata": {},
   "outputs": [],
   "source": []
  },
  {
   "cell_type": "code",
   "execution_count": null,
   "metadata": {},
   "outputs": [],
   "source": []
  },
  {
   "cell_type": "markdown",
   "metadata": {},
   "source": [
    "# Dataset, DataLoader"
   ]
  },
  {
   "cell_type": "code",
   "execution_count": 7,
   "metadata": {},
   "outputs": [],
   "source": [
    "\n",
    "class CIFAR10(Dataset):\n",
    "    \n",
    "    def __init__(self,X,y, transform=transforms.ToTensor()):\n",
    "        \n",
    "        self.transform = transform\n",
    "        self.X = X\n",
    "        self.y = y\n",
    "          \n",
    "    def __getitem__(self,idx):\n",
    "        \n",
    "        img_tensor = self.transform(self.X[idx])\n",
    "        return img_tensor,self.y[idx]\n",
    "    \n",
    "    def __len__(self):\n",
    "        return len(self.y)\n",
    "    \n",
    "    \n",
    "    \n",
    "# "
   ]
  },
  {
   "cell_type": "code",
   "execution_count": 8,
   "metadata": {},
   "outputs": [],
   "source": [
    "train_dl = DataLoader(CIFAR10(X_train_png,y_train),  batch_size = len(X_train_png) )\n",
    "test_dl  = DataLoader(CIFAR10(X_test_png, y_test),  batch_size = len(X_test_png) )\n",
    "                          "
   ]
  },
  {
   "cell_type": "code",
   "execution_count": null,
   "metadata": {},
   "outputs": [],
   "source": []
  },
  {
   "cell_type": "markdown",
   "metadata": {},
   "source": [
    "# Criando o Modelo"
   ]
  },
  {
   "cell_type": "code",
   "execution_count": 9,
   "metadata": {},
   "outputs": [],
   "source": [
    "class MLP_Model(nn.Module):\n",
    "    def __init__(self):\n",
    "        super().__init__()\n",
    "        \n",
    "        \n",
    "        self.F1 = nn.Flatten()\n",
    "        self.L1  = nn.Linear(3*32*32,64)\n",
    "        self.L2  = nn.Linear(64, 32)\n",
    "        self.L3  = nn.Linear(32,10)\n",
    "        self.A   = nn.ReLU()\n",
    "        \n",
    "        \n",
    "    def forward(self,x):\n",
    "        \n",
    "        x = self.F1(x)\n",
    "        x = self.L1(x) \n",
    "        x = self.A(x)\n",
    "        x = self.L2(x) \n",
    "        x = self.A(x)\n",
    "        x = self.L3(x)\n",
    "        x = self.A(x)\n",
    "        \n",
    "        return x\n",
    "        "
   ]
  },
  {
   "cell_type": "code",
   "execution_count": 18,
   "metadata": {},
   "outputs": [
    {
     "name": "stdout",
     "output_type": "stream",
     "text": [
      "Using device: cuda\n",
      "\n",
      "NVIDIA GeForce GTX 1650\n",
      "Memory Usage:\n",
      "Allocated: 0.0 GB\n",
      "Cached:    0.0 GB\n"
     ]
    }
   ],
   "source": [
    "\n",
    "# setting device on GPU if available, else CPU\n",
    "device = torch.device('cuda' if torch.cuda.is_available() else 'cpu')\n",
    "print('Using device:', device)\n",
    "print()\n",
    "\n",
    "#Additional Info when using cuda\n",
    "if device.type == 'cuda':\n",
    "    print(torch.cuda.get_device_name(0))\n",
    "    print('Memory Usage:')\n",
    "    print('Allocated:', round(torch.cuda.memory_allocated(0)/1024**3,1), 'GB')\n",
    "    print('Cached:   ', round(torch.cuda.memory_reserved(0)/1024**3,1), 'GB')"
   ]
  },
  {
   "cell_type": "code",
   "execution_count": 22,
   "metadata": {},
   "outputs": [
    {
     "name": "stdout",
     "output_type": "stream",
     "text": [
      "Is CUDA supported by this system? True\n",
      "CUDA version: 12.4\n",
      "ID of current CUDA device:0\n",
      "Name of current CUDA device:NVIDIA GeForce GTX 1650\n"
     ]
    }
   ],
   "source": [
    "import torch\n",
    "\n",
    "print(f\"Is CUDA supported by this system? {torch.cuda.is_available()}\")\n",
    "print(f\"CUDA version: {torch.version.cuda}\")\n",
    "\n",
    "# Storing ID of current CUDA device\n",
    "cuda_id = torch.cuda.current_device()\n",
    "print(f\"ID of current CUDA device:{torch.cuda.current_device()}\")\n",
    "\t\n",
    "print(f\"Name of current CUDA device:{torch.cuda.get_device_name(cuda_id)}\")\n"
   ]
  },
  {
   "cell_type": "markdown",
   "metadata": {},
   "source": [
    "# Training"
   ]
  },
  {
   "cell_type": "code",
   "execution_count": 10,
   "metadata": {},
   "outputs": [],
   "source": [
    "\n",
    "def training( N_Epochs, model, loss_fn, opt  ):\n",
    "    \n",
    "    loss_list = []\n",
    "    \n",
    "    for epoch in tqdm(range(N_Epochs+1)):\n",
    "        for xb, yb in train_dl:\n",
    "            \n",
    "            \n",
    "            \n",
    "            y_pred = model(xb.float())\n",
    "            loss   = loss_fn(y_pred, yb.long())\n",
    "        \n",
    "            \n",
    "            opt.zero_grad()\n",
    "            loss.backward()\n",
    "            opt.step()\n",
    "        \n",
    "            loss_list.append(loss.item())\n",
    "    \n",
    "    L1_weights = MLP_Model().L1.weight.detach()\n",
    "    L2_weights = MLP_Model().L2.weight.detach()\n",
    "    L3_weights = MLP_Model().L3.weight.detach()\n",
    "    \n",
    "    \n",
    "       \n",
    "    \n",
    "    plt.figure(figsize = (14,6))\n",
    "    plt.title(\"cost decay\")\n",
    "    plt.plot(loss_list)\n",
    "    plt.xlabel(\"epoch\")\n",
    "    plt.ylabel(\"cost\")\n",
    "    \n",
    "    return L1_weights, L2_weights, L3_weights"
   ]
  },
  {
   "cell_type": "code",
   "execution_count": 12,
   "metadata": {},
   "outputs": [
    {
     "name": "stderr",
     "output_type": "stream",
     "text": [
      "100%|██████████| 151/151 [13:15<00:00,  5.27s/it]\n"
     ]
    },
    {
     "data": {
      "image/png": "[encoded data removed]",
      "text/plain": [
       "<Figure size 1400x600 with 1 Axes>"
      ]
     },
     "metadata": {},
     "output_type": "display_data"
    }
   ],
   "source": [
    "model = MLP_Model()\n",
    "\n",
    "epochs = 150\n",
    "\n",
    "opt        = torch.optim.Adam( model.parameters(), lr=0.003 )\n",
    "\n",
    "loss_fn    = nn.CrossEntropyLoss( )   \n",
    "\n",
    "x1,x2,x3 = training( epochs, model , loss_fn, opt )"
   ]
  },
  {
   "cell_type": "code",
   "execution_count": null,
   "metadata": {},
   "outputs": [],
   "source": []
  },
  {
   "cell_type": "markdown",
   "metadata": {},
   "source": [
    "# Evaluation"
   ]
  },
  {
   "cell_type": "code",
   "execution_count": 147,
   "metadata": {},
   "outputs": [
    {
     "name": "stdout",
     "output_type": "stream",
     "text": [
      "              precision    recall  f1-score   support\n",
      "\n",
      "           0       0.53      0.60      0.56      1000\n",
      "           1       0.54      0.66      0.59      1000\n",
      "           2       0.38      0.33      0.35      1000\n",
      "           3       0.32      0.27      0.29      1000\n",
      "           4       0.39      0.47      0.43      1000\n",
      "           5       0.42      0.35      0.38      1000\n",
      "           6       0.54      0.47      0.50      1000\n",
      "           7       0.51      0.54      0.53      1000\n",
      "           8       0.63      0.63      0.63      1000\n",
      "           9       0.53      0.52      0.52      1000\n",
      "\n",
      "    accuracy                           0.48     10000\n",
      "   macro avg       0.48      0.48      0.48     10000\n",
      "weighted avg       0.48      0.48      0.48     10000\n",
      "\n"
     ]
    }
   ],
   "source": [
    "from sklearn.metrics import classification_report\n",
    "with torch.no_grad():\n",
    "    \n",
    "    model.eval()\n",
    "    \n",
    "    y_pred = []\n",
    "    y_true = []\n",
    "\n",
    "    for xb, yb in test_dl:\n",
    "        y_predb = model(xb.float())\n",
    "        y_pred.append(y_predb)\n",
    "        y_true.append(yb)\n",
    "        \n",
    "    y_pred = torch.cat(y_pred)\n",
    "    y_true = torch.cat(y_true)\n",
    "  \n",
    "    yf     = torch.argmax(y_pred, dim=1)\n",
    "\n",
    "    print(classification_report(y_true, yf))        \n",
    "    "
   ]
  }
 ],
 "metadata": {
  "kernelspec": {
   "display_name": "Study",
   "language": "python",
   "name": "python3"
  },
  "language_info": {
   "codemirror_mode": {
    "name": "ipython",
    "version": 3
   },
   "file_extension": ".py",
   "mimetype": "text/x-python",
   "name": "python",
   "nbconvert_exporter": "python",
   "pygments_lexer": "ipython3",
   "version": "3.12.4"
  }
 },
 "nbformat": 4,
 "nbformat_minor": 2
}
